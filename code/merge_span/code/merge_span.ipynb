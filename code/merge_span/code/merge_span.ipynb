{
 "cells": [
  {
   "cell_type": "code",
   "execution_count": 1,
   "metadata": {
    "collapsed": true
   },
   "outputs": [],
   "source": [
    "import json\n",
    "import os\n",
    "from operator import itemgetter\n",
    "# from attrdict import AttrDict\n",
    "from pprint import pprint\n",
    "from IPython.core.debugger import Tracer"
   ]
  },
  {
   "cell_type": "code",
   "execution_count": 2,
   "metadata": {
    "collapsed": true
   },
   "outputs": [],
   "source": [
    "workspaceDir = '/home/hanwen/disk/workspace'\n",
    "dataset = 'test'"
   ]
  },
  {
   "cell_type": "code",
   "execution_count": 3,
   "metadata": {
    "code_folding": [
     0
    ],
    "collapsed": true
   },
   "outputs": [],
   "source": [
    "# textFile = '{workspaceDir}/../data/{dataset}/merged.txt_without_sentence_id'.format(\n",
    "#     workspaceDir=workspaceDir, method=method, dataset=dataset)\n",
    "# inFile = '{workspaceDir}/{method}/result/{dataset}/merged.txt_without_sentence_id.json'.format(\n",
    "#     workspaceDir=workspaceDir, method=method, dataset=dataset)"
   ]
  },
  {
   "cell_type": "code",
   "execution_count": 4,
   "metadata": {
    "code_folding": [
     0
    ],
    "collapsed": true
   },
   "outputs": [],
   "source": [
    "# # read json span data and text data\n",
    "# data = []\n",
    "# texts = []\n",
    "# with open(inFile) as fin, open(textFile) as f_text:\n",
    "#     cnt = 0\n",
    "#     for line in fin:\n",
    "#         data.append(json.loads(line))\n",
    "#         cnt += 1\n",
    "#         if cnt > 100:\n",
    "#             break\n",
    "#     cnt = 0\n",
    "#     for line in f_text:\n",
    "#         texts.append(line)\n",
    "#         cnt += 1\n",
    "#         if cnt > 100:\n",
    "#             break        "
   ]
  },
  {
   "cell_type": "code",
   "execution_count": 5,
   "metadata": {
    "collapsed": true
   },
   "outputs": [],
   "source": [
    "def read_span_json(inFile, num=None):\n",
    "    with open(inFile) as fin:\n",
    "        data = []\n",
    "        if num:\n",
    "            for i, line in enumerate(fin):\n",
    "                data.append(json.loads(line))\n",
    "                if i >= num:\n",
    "                    break\n",
    "        else:\n",
    "            for line in fin:\n",
    "                data.append(json.loads(line))\n",
    "        return data"
   ]
  },
  {
   "cell_type": "code",
   "execution_count": 6,
   "metadata": {
    "collapsed": true
   },
   "outputs": [],
   "source": [
    "def read_text(inFile, num=None):\n",
    "    texts = []\n",
    "    with open(inFile) as fin, open(textFile) as f_text:\n",
    "        if num:\n",
    "            for cnt, line in enumerate(f_text):\n",
    "                texts.append(line)\n",
    "                if cnt > num:\n",
    "                    break\n",
    "        else:\n",
    "            for line in f_text:\n",
    "                texts.append(line)\n",
    "        return texts"
   ]
  },
  {
   "cell_type": "code",
   "execution_count": 7,
   "metadata": {
    "collapsed": true
   },
   "outputs": [],
   "source": [
    "def get_line_count(inFile):\n",
    "    count = -1\n",
    "    for count, line in enumerate(open(inFile, 'r')):\n",
    "        pass\n",
    "    count += 1\n",
    "    return count"
   ]
  },
  {
   "cell_type": "code",
   "execution_count": 8,
   "metadata": {
    "collapsed": true
   },
   "outputs": [],
   "source": [
    "def check_span_data(inFile_list):\n",
    "    for inFile in inFile_list:\n",
    "        print(inFile, 'line count', get_line_count(inFile))"
   ]
  },
  {
   "cell_type": "code",
   "execution_count": 9,
   "metadata": {
    "collapsed": true
   },
   "outputs": [],
   "source": [
    "# seginFile = '{}/seg_with_vocab/result/{}/merged.txt_without_sentence_id.json'.format(workspaceDir, dataset)\n",
    "textFile = '{}/../data/{}/merged.txt_without_sentence_id'.format(workspaceDir, dataset)\n",
    "nltkFile = '{}/StructMineDataPipeline/result/{}/merged.txt_without_sentence_id.json'.format(workspaceDir, dataset)\n",
    "spacyFile = '{}/spacy/result/{}/merged.txt_without_sentence_id.json'.format(workspaceDir, dataset)\n",
    "autoFile = '{}/auto/result/{}/merged.txt_without_sentence_id.json'.format(workspaceDir, dataset)\n",
    "textrankFile = '{}/textrank/result/{}/merged.txt_without_sentence_id.json'.format(workspaceDir, dataset)\n",
    "rakeFile = '{}/rake/result/{}/merged.txt_without_sentence_id.json'.format(workspaceDir, dataset)\n",
    "keaFile = '{}/kea/result/{}/merged.txt_without_sentence_id.json'.format(workspaceDir, dataset)"
   ]
  },
  {
   "cell_type": "code",
   "execution_count": 10,
   "metadata": {
    "collapsed": true
   },
   "outputs": [],
   "source": [
    "# check_span_data([textFile, nltkFile, spacyFile, autoFile, textrankFile])"
   ]
  },
  {
   "cell_type": "code",
   "execution_count": 11,
   "metadata": {
    "collapsed": true
   },
   "outputs": [],
   "source": [
    "nltkData = read_span_json(nltkFile)\n",
    "spacyData = read_span_json(spacyFile)\n",
    "autoData = read_span_json(autoFile)\n",
    "textrankData = read_span_json(textrankFile)"
   ]
  },
  {
   "cell_type": "code",
   "execution_count": 12,
   "metadata": {
    "collapsed": true
   },
   "outputs": [],
   "source": [
    "texts = read_text(textFile)"
   ]
  },
  {
   "cell_type": "code",
   "execution_count": 13,
   "metadata": {
    "code_folding": [],
    "collapsed": true
   },
   "outputs": [],
   "source": [
    "def merge_span_data(data_list):\n",
    "    # check data length consistency\n",
    "    length_list = [len(data) for data in data_list]\n",
    "    assert len(set(length_list)) == 1\n",
    "    length = length_list[0]\n",
    "    new_data = []\n",
    "    for i in range(length):\n",
    "        new_d = []\n",
    "        for data in data_list:\n",
    "            new_d.extend(data[i])\n",
    "        new_data.append(new_d)\n",
    "    return new_data"
   ]
  },
  {
   "cell_type": "code",
   "execution_count": 14,
   "metadata": {},
   "outputs": [
    {
     "data": {
      "text/plain": [
       "{'entity': [],\n",
       " 'np': [{'ed': 2, 'st': 0, 'text': 'Semisupervised Clustering'},\n",
       "  {'ed': 4, 'st': 3, 'text': 'AND-Queries'},\n",
       "  {'ed': 9, 'st': 5, 'text': 'Locally Encodable Source Coding'}]}"
      ]
     },
     "execution_count": 14,
     "metadata": {},
     "output_type": "execute_result"
    }
   ],
   "source": [
    "spacyData[0]"
   ]
  },
  {
   "cell_type": "code",
   "execution_count": 15,
   "metadata": {
    "collapsed": true
   },
   "outputs": [],
   "source": [
    "# convert spacy data\n",
    "spacyNPData = []\n",
    "spacyEntityData = []\n",
    "for d in spacyData:\n",
    "    spacyNPData.append(d['np'])\n",
    "    spacyEntityData.append(d['entity'])"
   ]
  },
  {
   "cell_type": "code",
   "execution_count": 16,
   "metadata": {
    "collapsed": true
   },
   "outputs": [],
   "source": [
    "new_data = merge_span_data([nltkData, spacyNPData, spacyEntityData, autoData, textrankData])"
   ]
  },
  {
   "cell_type": "code",
   "execution_count": 17,
   "metadata": {},
   "outputs": [
    {
     "data": {
      "text/plain": [
       "[{'ed': 2, 'np': [['Clustering', 'NNP']], 'st': 1, 'text': 'Clustering'},\n",
       " {'ed': 4, 'np': [['AND-Queries', 'NNP']], 'st': 3, 'text': 'AND-Queries'},\n",
       " {'ed': 9,\n",
       "  'np': [['Locally', 'NNP'],\n",
       "   ['Encodable', 'NNP'],\n",
       "   ['Source', 'NNP'],\n",
       "   ['Coding', 'NNP']],\n",
       "  'st': 5,\n",
       "  'text': 'Locally Encodable Source Coding'},\n",
       " {'ed': 2, 'st': 0, 'text': 'Semisupervised Clustering'},\n",
       " {'ed': 4, 'st': 3, 'text': 'AND-Queries'},\n",
       " {'ed': 9, 'st': 5, 'text': 'Locally Encodable Source Coding'},\n",
       " {'ed': 7, 'st': 5, 'text': 'Locally Encodable'},\n",
       " {'ed': 9, 'st': 7, 'text': 'Source Coding'},\n",
       " {'ed': 9, 'st': 7, 'text': 'Source Coding'}]"
      ]
     },
     "execution_count": 17,
     "metadata": {},
     "output_type": "execute_result"
    }
   ],
   "source": [
    "new_data[0]"
   ]
  },
  {
   "cell_type": "code",
   "execution_count": 18,
   "metadata": {
    "code_folding": [
     0
    ],
    "collapsed": true
   },
   "outputs": [],
   "source": [
    "# def generate_superspan(d, tokens):\n",
    "#     #     Tracer()()\n",
    "#     cur_super_st = -1\n",
    "#     cur_super_ed = -1\n",
    "\n",
    "#     superspan_list = []\n",
    "#     for span in sorted(d, key=itemgetter('st', 'ed')):\n",
    "#         st = span['st']\n",
    "#         ed = span['ed']\n",
    "#         text = span['text']\n",
    "#         if st >= cur_super_ed:\n",
    "#             # meet a new superspan\n",
    "# #             if superspan:\n",
    "# #                 superspan['text'] = ' '.join(\n",
    "# #                     t.split(' ')[cur_super_st:cur_super_ed])\n",
    "# #             cur_super_st = st\n",
    "# #             cur_super_ed = ed\n",
    "#             superspan = {'super_st': cur_super_st,\n",
    "#                          'super_ed': cur_super_ed, 'spans': []}\n",
    "#             if span not in superspan['spans']:\n",
    "#                 superspan['spans'].append(span)\n",
    "#             superspan['text'] = ' '.join(tokens)[cur_super_st:cur_super_ed]\n",
    "#             superspan['tag'] = 'superspan'\n",
    "#             superspan_list.append(superspan)\n",
    "#         else:\n",
    "#             # update super end pos\n",
    "#             if ed > cur_super_ed:\n",
    "#                 cur_super_ed = ed\n",
    "#             superspan['super_ed'] = cur_super_ed\n",
    "#             superspan['spans'].append({'st': st, 'ed': ed, 'text': text})\n",
    "\n",
    "#     return superspan_list"
   ]
  },
  {
   "cell_type": "code",
   "execution_count": 19,
   "metadata": {
    "code_folding": [],
    "collapsed": true
   },
   "outputs": [],
   "source": [
    "def generate_superspan(d, tokens):\n",
    "    cur_super_st = -1\n",
    "    cur_super_ed = -1\n",
    "    superspan_cnt = -1\n",
    "    superspan = {}\n",
    "    superspan_list = []\n",
    "    for span in sorted(d, key=itemgetter('st', 'ed')):\n",
    "        # span information\n",
    "        st = span['st']\n",
    "        ed = span['ed']\n",
    "        text = span['text']\n",
    "#         print('text', text)\n",
    "        \n",
    "        if st >= cur_super_ed:\n",
    "            # meet a new superspan\n",
    "            cur_super_st = st\n",
    "            cur_super_ed = ed\n",
    "            superspan = {'super_st':cur_super_st, 'super_ed':cur_super_ed, 'spans':[]}\n",
    "            if {'st':st, 'ed':ed, 'text':text} not in superspan['spans']:\n",
    "                superspan['spans'].append({'st':st, 'ed':ed, 'text':text})\n",
    "                \n",
    "#             superspan['text'] = ' '.join(tokens[cur_super_st:cur_super_ed])\n",
    "            superspan['tag'] = 'superspan'\n",
    "            superspan_list.append(superspan)\n",
    "            superspan_cnt += 1\n",
    "        else:\n",
    "            # update super end pos \n",
    "            if ed > cur_super_ed:\n",
    "                cur_super_ed = ed\n",
    "            superspan_list[superspan_cnt]['super_ed'] = cur_super_ed\n",
    "            if {'st':st, 'ed':ed, 'text':text} not in superspan_list[superspan_cnt]['spans']:\n",
    "                superspan_list[superspan_cnt]['spans'].append({'st':st, 'ed':ed, 'text':text})\n",
    "#             superspan_list[superspan_cnt]['text'] = ' '.join(tokens[cur_super_st:cur_super_ed])\n",
    "    for i, superspan in enumerate(superspan_list):\n",
    "        superspan_list[i]['text'] = ' '.join(tokens[superspan['super_st']:superspan['super_ed']])\n",
    "    return superspan_list\n"
   ]
  },
  {
   "cell_type": "code",
   "execution_count": 20,
   "metadata": {},
   "outputs": [
    {
     "data": {
      "text/plain": [
       "[0, 1, 0, 2, 3, 4, 5, 6, 7, 8, 9, 10, 11, 12, 0]"
      ]
     },
     "execution_count": 20,
     "metadata": {},
     "output_type": "execute_result"
    }
   ],
   "source": [
    "def remove_duplicate(x):\n",
    "    # 0 is flag for plain text word\n",
    "    occur = set()\n",
    "    return_list = []\n",
    "    for i in x:\n",
    "        if i ==0 or i not in occur:\n",
    "            return_list.append(i)\n",
    "            occur.add(i)\n",
    "    return return_list\n",
    "\n",
    "flag = [0, 1, 1, 0, 2, 3, 4, 5, 6, 7, 7, 8, 9, 9, 10, 11, 11, 12, 12, 12, 12, 0]\n",
    "remove_duplicate(flag)"
   ]
  },
  {
   "cell_type": "code",
   "execution_count": 21,
   "metadata": {
    "collapsed": true
   },
   "outputs": [],
   "source": [
    "def generate_sequence(superspan_list, tokens):\n",
    "    '''\n",
    "        generate super span sequence\n",
    "    '''\n",
    "    flag = [0]*len(tokens)\n",
    "\n",
    "    sequence = []    \n",
    "    for i, superspan in enumerate(superspan_list):\n",
    "        st = superspan['super_st']\n",
    "        ed = superspan['super_ed']\n",
    "        for idx in range(st, ed):\n",
    "            flag[idx] = i\n",
    "   \n",
    "    flag = remove_duplicate(flag)\n",
    "\n",
    "    for idx, v in enumerate(flag):\n",
    "        if v == 0:\n",
    "            sequence.append({'tag':'plain', 'text':tokens[idx]})\n",
    "        else:\n",
    "#             superspan_list[v].update({'tag':'superspan'})\n",
    "            sequence.append(superspan_list[v])\n",
    "    return sequence"
   ]
  },
  {
   "cell_type": "code",
   "execution_count": 22,
   "metadata": {
    "scrolled": false
   },
   "outputs": [
    {
     "data": {
      "text/plain": [
       "591"
      ]
     },
     "execution_count": 22,
     "metadata": {},
     "output_type": "execute_result"
    },
    {
     "data": {
      "text/plain": [
       "1"
      ]
     },
     "execution_count": 22,
     "metadata": {},
     "output_type": "execute_result"
    },
    {
     "data": {
      "text/plain": [
       "540"
      ]
     },
     "execution_count": 22,
     "metadata": {},
     "output_type": "execute_result"
    },
    {
     "data": {
      "text/plain": [
       "1"
      ]
     },
     "execution_count": 22,
     "metadata": {},
     "output_type": "execute_result"
    },
    {
     "data": {
      "text/plain": [
       "2"
      ]
     },
     "execution_count": 22,
     "metadata": {},
     "output_type": "execute_result"
    },
    {
     "data": {
      "text/plain": [
       "1"
      ]
     },
     "execution_count": 22,
     "metadata": {},
     "output_type": "execute_result"
    },
    {
     "data": {
      "text/plain": [
       "2"
      ]
     },
     "execution_count": 22,
     "metadata": {},
     "output_type": "execute_result"
    },
    {
     "data": {
      "text/plain": [
       "1"
      ]
     },
     "execution_count": 22,
     "metadata": {},
     "output_type": "execute_result"
    },
    {
     "data": {
      "text/plain": [
       "838"
      ]
     },
     "execution_count": 22,
     "metadata": {},
     "output_type": "execute_result"
    },
    {
     "data": {
      "text/plain": [
       "1"
      ]
     },
     "execution_count": 22,
     "metadata": {},
     "output_type": "execute_result"
    },
    {
     "data": {
      "text/plain": [
       "736"
      ]
     },
     "execution_count": 22,
     "metadata": {},
     "output_type": "execute_result"
    },
    {
     "data": {
      "text/plain": [
       "1"
      ]
     },
     "execution_count": 22,
     "metadata": {},
     "output_type": "execute_result"
    },
    {
     "data": {
      "text/plain": [
       "2"
      ]
     },
     "execution_count": 22,
     "metadata": {},
     "output_type": "execute_result"
    },
    {
     "data": {
      "text/plain": [
       "1"
      ]
     },
     "execution_count": 22,
     "metadata": {},
     "output_type": "execute_result"
    },
    {
     "data": {
      "text/plain": [
       "2"
      ]
     },
     "execution_count": 22,
     "metadata": {},
     "output_type": "execute_result"
    },
    {
     "data": {
      "text/plain": [
       "1"
      ]
     },
     "execution_count": 22,
     "metadata": {},
     "output_type": "execute_result"
    },
    {
     "data": {
      "text/plain": [
       "711"
      ]
     },
     "execution_count": 22,
     "metadata": {},
     "output_type": "execute_result"
    },
    {
     "data": {
      "text/plain": [
       "1"
      ]
     },
     "execution_count": 22,
     "metadata": {},
     "output_type": "execute_result"
    },
    {
     "data": {
      "text/plain": [
       "702"
      ]
     },
     "execution_count": 22,
     "metadata": {},
     "output_type": "execute_result"
    },
    {
     "data": {
      "text/plain": [
       "1"
      ]
     },
     "execution_count": 22,
     "metadata": {},
     "output_type": "execute_result"
    },
    {
     "data": {
      "text/plain": [
       "2"
      ]
     },
     "execution_count": 22,
     "metadata": {},
     "output_type": "execute_result"
    },
    {
     "data": {
      "text/plain": [
       "1"
      ]
     },
     "execution_count": 22,
     "metadata": {},
     "output_type": "execute_result"
    },
    {
     "data": {
      "text/plain": [
       "2"
      ]
     },
     "execution_count": 22,
     "metadata": {},
     "output_type": "execute_result"
    },
    {
     "data": {
      "text/plain": [
       "1"
      ]
     },
     "execution_count": 22,
     "metadata": {},
     "output_type": "execute_result"
    },
    {
     "data": {
      "text/plain": [
       "123"
      ]
     },
     "execution_count": 22,
     "metadata": {},
     "output_type": "execute_result"
    },
    {
     "data": {
      "text/plain": [
       "1"
      ]
     },
     "execution_count": 22,
     "metadata": {},
     "output_type": "execute_result"
    },
    {
     "data": {
      "text/plain": [
       "38"
      ]
     },
     "execution_count": 22,
     "metadata": {},
     "output_type": "execute_result"
    },
    {
     "data": {
      "text/plain": [
       "1"
      ]
     },
     "execution_count": 22,
     "metadata": {},
     "output_type": "execute_result"
    },
    {
     "data": {
      "text/plain": [
       "617"
      ]
     },
     "execution_count": 22,
     "metadata": {},
     "output_type": "execute_result"
    },
    {
     "data": {
      "text/plain": [
       "1"
      ]
     },
     "execution_count": 22,
     "metadata": {},
     "output_type": "execute_result"
    },
    {
     "data": {
      "text/plain": [
       "700"
      ]
     },
     "execution_count": 22,
     "metadata": {},
     "output_type": "execute_result"
    },
    {
     "data": {
      "text/plain": [
       "1"
      ]
     },
     "execution_count": 22,
     "metadata": {},
     "output_type": "execute_result"
    },
    {
     "data": {
      "text/plain": [
       "863"
      ]
     },
     "execution_count": 22,
     "metadata": {},
     "output_type": "execute_result"
    },
    {
     "data": {
      "text/plain": [
       "1"
      ]
     },
     "execution_count": 22,
     "metadata": {},
     "output_type": "execute_result"
    },
    {
     "data": {
      "text/plain": [
       "921"
      ]
     },
     "execution_count": 22,
     "metadata": {},
     "output_type": "execute_result"
    },
    {
     "data": {
      "text/plain": [
       "1"
      ]
     },
     "execution_count": 22,
     "metadata": {},
     "output_type": "execute_result"
    },
    {
     "data": {
      "text/plain": [
       "967"
      ]
     },
     "execution_count": 22,
     "metadata": {},
     "output_type": "execute_result"
    },
    {
     "data": {
      "text/plain": [
       "1"
      ]
     },
     "execution_count": 22,
     "metadata": {},
     "output_type": "execute_result"
    },
    {
     "data": {
      "text/plain": [
       "1184"
      ]
     },
     "execution_count": 22,
     "metadata": {},
     "output_type": "execute_result"
    },
    {
     "data": {
      "text/plain": [
       "1"
      ]
     },
     "execution_count": 22,
     "metadata": {},
     "output_type": "execute_result"
    },
    {
     "data": {
      "text/plain": [
       "617"
      ]
     },
     "execution_count": 22,
     "metadata": {},
     "output_type": "execute_result"
    },
    {
     "data": {
      "text/plain": [
       "1"
      ]
     },
     "execution_count": 22,
     "metadata": {},
     "output_type": "execute_result"
    },
    {
     "data": {
      "text/plain": [
       "755"
      ]
     },
     "execution_count": 22,
     "metadata": {},
     "output_type": "execute_result"
    },
    {
     "data": {
      "text/plain": [
       "1"
      ]
     },
     "execution_count": 22,
     "metadata": {},
     "output_type": "execute_result"
    },
    {
     "data": {
      "text/plain": [
       "1322"
      ]
     },
     "execution_count": 22,
     "metadata": {},
     "output_type": "execute_result"
    },
    {
     "data": {
      "text/plain": [
       "1"
      ]
     },
     "execution_count": 22,
     "metadata": {},
     "output_type": "execute_result"
    },
    {
     "data": {
      "text/plain": [
       "1595"
      ]
     },
     "execution_count": 22,
     "metadata": {},
     "output_type": "execute_result"
    },
    {
     "data": {
      "text/plain": [
       "1"
      ]
     },
     "execution_count": 22,
     "metadata": {},
     "output_type": "execute_result"
    },
    {
     "data": {
      "text/plain": [
       "638"
      ]
     },
     "execution_count": 22,
     "metadata": {},
     "output_type": "execute_result"
    },
    {
     "data": {
      "text/plain": [
       "1"
      ]
     },
     "execution_count": 22,
     "metadata": {},
     "output_type": "execute_result"
    },
    {
     "data": {
      "text/plain": [
       "744"
      ]
     },
     "execution_count": 22,
     "metadata": {},
     "output_type": "execute_result"
    },
    {
     "data": {
      "text/plain": [
       "1"
      ]
     },
     "execution_count": 22,
     "metadata": {},
     "output_type": "execute_result"
    },
    {
     "data": {
      "text/plain": [
       "687"
      ]
     },
     "execution_count": 22,
     "metadata": {},
     "output_type": "execute_result"
    },
    {
     "data": {
      "text/plain": [
       "1"
      ]
     },
     "execution_count": 22,
     "metadata": {},
     "output_type": "execute_result"
    },
    {
     "data": {
      "text/plain": [
       "894"
      ]
     },
     "execution_count": 22,
     "metadata": {},
     "output_type": "execute_result"
    },
    {
     "data": {
      "text/plain": [
       "1"
      ]
     },
     "execution_count": 22,
     "metadata": {},
     "output_type": "execute_result"
    },
    {
     "data": {
      "text/plain": [
       "671"
      ]
     },
     "execution_count": 22,
     "metadata": {},
     "output_type": "execute_result"
    },
    {
     "data": {
      "text/plain": [
       "1"
      ]
     },
     "execution_count": 22,
     "metadata": {},
     "output_type": "execute_result"
    },
    {
     "data": {
      "text/plain": [
       "818"
      ]
     },
     "execution_count": 22,
     "metadata": {},
     "output_type": "execute_result"
    },
    {
     "data": {
      "text/plain": [
       "1"
      ]
     },
     "execution_count": 22,
     "metadata": {},
     "output_type": "execute_result"
    },
    {
     "data": {
      "text/plain": [
       "1286"
      ]
     },
     "execution_count": 22,
     "metadata": {},
     "output_type": "execute_result"
    },
    {
     "data": {
      "text/plain": [
       "1"
      ]
     },
     "execution_count": 22,
     "metadata": {},
     "output_type": "execute_result"
    },
    {
     "data": {
      "text/plain": [
       "1523"
      ]
     },
     "execution_count": 22,
     "metadata": {},
     "output_type": "execute_result"
    },
    {
     "data": {
      "text/plain": [
       "1"
      ]
     },
     "execution_count": 22,
     "metadata": {},
     "output_type": "execute_result"
    },
    {
     "data": {
      "text/plain": [
       "1058"
      ]
     },
     "execution_count": 22,
     "metadata": {},
     "output_type": "execute_result"
    },
    {
     "data": {
      "text/plain": [
       "1"
      ]
     },
     "execution_count": 22,
     "metadata": {},
     "output_type": "execute_result"
    },
    {
     "data": {
      "text/plain": [
       "1464"
      ]
     },
     "execution_count": 22,
     "metadata": {},
     "output_type": "execute_result"
    },
    {
     "data": {
      "text/plain": [
       "1"
      ]
     },
     "execution_count": 22,
     "metadata": {},
     "output_type": "execute_result"
    },
    {
     "data": {
      "text/plain": [
       "2"
      ]
     },
     "execution_count": 22,
     "metadata": {},
     "output_type": "execute_result"
    },
    {
     "data": {
      "text/plain": [
       "1"
      ]
     },
     "execution_count": 22,
     "metadata": {},
     "output_type": "execute_result"
    },
    {
     "data": {
      "text/plain": [
       "2"
      ]
     },
     "execution_count": 22,
     "metadata": {},
     "output_type": "execute_result"
    },
    {
     "data": {
      "text/plain": [
       "1"
      ]
     },
     "execution_count": 22,
     "metadata": {},
     "output_type": "execute_result"
    },
    {
     "data": {
      "text/plain": [
       "179"
      ]
     },
     "execution_count": 22,
     "metadata": {},
     "output_type": "execute_result"
    },
    {
     "data": {
      "text/plain": [
       "1"
      ]
     },
     "execution_count": 22,
     "metadata": {},
     "output_type": "execute_result"
    },
    {
     "data": {
      "text/plain": [
       "73"
      ]
     },
     "execution_count": 22,
     "metadata": {},
     "output_type": "execute_result"
    },
    {
     "data": {
      "text/plain": [
       "1"
      ]
     },
     "execution_count": 22,
     "metadata": {},
     "output_type": "execute_result"
    },
    {
     "data": {
      "text/plain": [
       "755"
      ]
     },
     "execution_count": 22,
     "metadata": {},
     "output_type": "execute_result"
    },
    {
     "data": {
      "text/plain": [
       "1"
      ]
     },
     "execution_count": 22,
     "metadata": {},
     "output_type": "execute_result"
    },
    {
     "data": {
      "text/plain": [
       "943"
      ]
     },
     "execution_count": 22,
     "metadata": {},
     "output_type": "execute_result"
    },
    {
     "data": {
      "text/plain": [
       "1"
      ]
     },
     "execution_count": 22,
     "metadata": {},
     "output_type": "execute_result"
    }
   ],
   "source": [
    "lineCount = get_line_count(textFile)\n",
    "lineCount = 20\n",
    "\n",
    "outDir = '{}/merge_span/result/{}'.format(workspaceDir, dataset)\n",
    "outListFile = '{}/superspan_list.json'.format(outDir)\n",
    "outFile = '{}/superspan_sequence.json'.format(outDir)\n",
    "\n",
    "if not os.path.exists(outDir):\n",
    "    os.makedirs(outDir)\n",
    "\n",
    "with open(outListFile, 'w') as fout_list, open(outFile, 'w') as fout:\n",
    "    for slice_num in range(lineCount):\n",
    "        text = texts[slice_num].strip()\n",
    "        if text:\n",
    "            tokens = text.split(' ')\n",
    "        else:\n",
    "            tokens = []\n",
    "    #     print('slice_num', slice_num)\n",
    "    #     print('tokens', tokens)\n",
    "    #     print('data', new_data[slice_num])\n",
    "        superspan_list = generate_superspan(new_data[slice_num], tokens)\n",
    "\n",
    "\n",
    "        fout_list.write(json.dumps(superspan_list));\n",
    "        fout_list.write('\\n');\n",
    "\n",
    "        superspan_sequence = generate_sequence(superspan_list, tokens)\n",
    "\n",
    "        fout.write(json.dumps(superspan_sequence));\n",
    "        fout.write('\\n');\n",
    "\n",
    "    #     print(superspan_list)\n",
    "    #     for superspan in superspan_list:\n",
    "    #         pprint(superspan)\n",
    "    #         print('--'*20)\n",
    "    "
   ]
  },
  {
   "cell_type": "code",
   "execution_count": 46,
   "metadata": {
    "collapsed": true,
    "scrolled": false
   },
   "outputs": [],
   "source": [
    "# generate_sequence(superspan_list, tokens)"
   ]
  },
  {
   "cell_type": "code",
   "execution_count": 48,
   "metadata": {
    "collapsed": true
   },
   "outputs": [],
   "source": [
    "# superspan_sequence"
   ]
  },
  {
   "cell_type": "code",
   "execution_count": null,
   "metadata": {
    "collapsed": true
   },
   "outputs": [],
   "source": []
  }
 ],
 "metadata": {
  "kernelspec": {
   "display_name": "Python 3",
   "language": "python",
   "name": "python3"
  },
  "language_info": {
   "codemirror_mode": {
    "name": "ipython",
    "version": 3
   },
   "file_extension": ".py",
   "mimetype": "text/x-python",
   "name": "python",
   "nbconvert_exporter": "python",
   "pygments_lexer": "ipython3",
   "version": "3.6.3"
  }
 },
 "nbformat": 4,
 "nbformat_minor": 2
}
