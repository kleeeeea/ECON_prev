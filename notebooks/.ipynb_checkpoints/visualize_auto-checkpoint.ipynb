{
 "cells": [
  {
   "cell_type": "code",
   "execution_count": 1,
   "metadata": {
    "collapsed": true
   },
   "outputs": [],
   "source": [
    "dataset = 'database'\n",
    "\n",
    "raw_autophrase_output = \"/scratch/home/hwzha/workspace/AutoPhrase/models/%s/segmentation.txt\" % (dataset)\n",
    "\n",
    "with open(raw_autophrase_output) as f:\n",
    "    text = [i for i in f]\n",
    "\n",
    "text[153655]"
   ]
  }
 ],
 "metadata": {
  "kernelspec": {
   "display_name": "Python 3",
   "language": "python",
   "name": "python3"
  },
  "language_info": {
   "codemirror_mode": {
    "name": "ipython",
    "version": 3
   },
   "file_extension": ".py",
   "mimetype": "text/x-python",
   "name": "python",
   "nbconvert_exporter": "python",
   "pygments_lexer": "ipython3",
   "version": "3.6.3"
  }
 },
 "nbformat": 4,
 "nbformat_minor": 2
}
