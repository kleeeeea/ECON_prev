{
 "cells": [
  {
   "cell_type": "code",
   "execution_count": 1,
   "metadata": {},
   "outputs": [
    {
     "name": "stderr",
     "output_type": "stream",
     "text": [
      "No handlers could be found for logger \"gensim.models.doc2vec\"\n"
     ]
    }
   ],
   "source": [
    "# read embedding\n",
    "import sys\n",
    "import random\n",
    "from sklearn.metrics import precision_recall_curve\n",
    "import cPickle\n",
    "# import _pickle as cPickle\n",
    "\n",
    "from gensim.models.word2vec import Word2Vec\n",
    "from gensim import corpora, models, similarities\n",
    "import logging\n",
    "import pdb\n",
    "import numpy as np\n",
    "from tqdm import tqdm\n",
    "import re\n",
    "from collections import Counter\n",
    "from matplotlib import pyplot as plt"
   ]
  },
  {
   "cell_type": "code",
   "execution_count": 389,
   "metadata": {
    "collapsed": true
   },
   "outputs": [],
   "source": [
    "dataset = 'database'"
   ]
  },
  {
   "cell_type": "code",
   "execution_count": 390,
   "metadata": {
    "collapsed": true
   },
   "outputs": [],
   "source": [
    "fname = '/scratch/home/hwzha/workspace/auto/result/%s/merged.txt_without_sentence_id.evaluation.txt.embedding.bin'%dataset\n",
    "model = Word2Vec.load(fname)"
   ]
  },
  {
   "cell_type": "code",
   "execution_count": 391,
   "metadata": {},
   "outputs": [],
   "source": [
    "# fname = '/scratch/home/klee/workspace/conceptMining/data/%s/embedding_tmp.bin_ONLY_ENDS_WITH.bin' % dataset\n",
    "# model_end_with = Word2Vec.load(fname)"
   ]
  },
  {
   "cell_type": "code",
   "execution_count": 392,
   "metadata": {
    "collapsed": true
   },
   "outputs": [],
   "source": [
    "phrase_file = '/scratch/home/hwzha/workspace/auto/result/%s/phrase_list.txt'%dataset\n",
    "phrase_set = set()\n",
    "with open(phrase_file) as fin:\n",
    "    for line in fin:\n",
    "        phrase, score = line.split('\\t')\n",
    "        phrase_set.add(phrase.replace(' ', '_'))"
   ]
  },
  {
   "cell_type": "code",
   "execution_count": 383,
   "metadata": {
    "collapsed": true
   },
   "outputs": [],
   "source": [
    "our_phrase_file = '/scratch/home/klee/workspace/conceptMining/data/%s/concept_score.txt'%dataset\n",
    "our_phrase_set = set()\n",
    "with open(our_phrase_file) as fin:\n",
    "    for line in fin:\n",
    "        phrase, score = line.split('\\t')\n",
    "        our_phrase_set.add(phrase.replace(' ', '_'))\n",
    "        if score < 0.1:\n",
    "            break"
   ]
  },
  {
   "cell_type": "code",
   "execution_count": 384,
   "metadata": {
    "collapsed": true
   },
   "outputs": [],
   "source": [
    "fname = '/scratch/home/klee/workspace/conceptMining/data/%s/embedding_tmp.bin'%dataset\n",
    "ourmodel = Word2Vec.load(fname)"
   ]
  },
  {
   "cell_type": "code",
   "execution_count": null,
   "metadata": {
    "collapsed": true
   },
   "outputs": [],
   "source": []
  },
  {
   "cell_type": "code",
   "execution_count": 8,
   "metadata": {
    "collapsed": true
   },
   "outputs": [],
   "source": [
    "# query list\n",
    "# query = 'neural_network'\n",
    "# query = 'deep_learing'\n",
    "\n",
    "# query = information_retrieval x"
   ]
  },
  {
   "cell_type": "code",
   "execution_count": null,
   "metadata": {
    "collapsed": true
   },
   "outputs": [],
   "source": [
    "# database\n",
    "# DBMS\n",
    "# VLDB\n",
    "# relational_DBMS\n",
    "# star_schema\n"
   ]
  },
  {
   "cell_type": "code",
   "execution_count": null,
   "metadata": {
    "collapsed": true
   },
   "outputs": [],
   "source": [
    "query = 'DBMS'"
   ]
  },
  {
   "cell_type": "code",
   "execution_count": 386,
   "metadata": {
    "collapsed": true
   },
   "outputs": [],
   "source": [
    "wrap_query = '<c>' + query + '</c>'"
   ]
  },
  {
   "cell_type": "code",
   "execution_count": 387,
   "metadata": {},
   "outputs": [
    {
     "name": "stdout",
     "output_type": "stream",
     "text": [
      "(u'fac', 0.7871014475822449)\n",
      "(u'body_gap', 0.6872155070304871)\n",
      "(u'predicate_occurrence', 0.6213324666023254)\n",
      "(u'min-head-gap', 0.6023907661437988)\n",
      "(u'Triggered-By', 0.5973806381225586)\n",
      "(u'derived_predicate', 0.5888928174972534)\n",
      "(u'locally_saturated', 0.585529625415802)\n",
      "(u'Condition_Monotonicity', 0.5765209794044495)\n",
      "(u'Caccess', 0.5757513046264648)\n",
      "(u'Interleaved-SCCs', 0.5728981494903564)\n"
     ]
    }
   ],
   "source": [
    "cnt = 0\n",
    "for phrase, score in model.most_similar(query, topn=10):\n",
    "    if re.match('<c>[\\w-]+</c>', phrase):\n",
    "        phrase = phrase[3:-4]\n",
    "#     if phrase in phrase_set:\n",
    "    print(phrase, score)\n",
    "    cnt += 1\n",
    "    if cnt > 50:\n",
    "        break"
   ]
  },
  {
   "cell_type": "code",
   "execution_count": 388,
   "metadata": {},
   "outputs": [
    {
     "name": "stdout",
     "output_type": "stream",
     "text": [
      "(u'fac_list_N', 0.8435481786727905)\n",
      "(u'fac_N_N', 0.8029026985168457)\n",
      "(u'gap_R2', 0.7550676465034485)\n",
      "(u'body_gap_R2', 0.7502967119216919)\n",
      "(u'fac_list_program', 0.7493317127227783)\n",
      "(u'better_benefit_space_ratio', 0.7466254234313965)\n",
      "(u'list_program', 0.7466179132461548)\n",
      "(u'fac_list_facts', 0.7440946102142334)\n",
      "(u'Rules_Eval', 0.7434426546096802)\n",
      "(u'Inverted_Rules_Eval', 0.7423179745674133)\n"
     ]
    }
   ],
   "source": [
    "cnt = 0\n",
    "for phrase, score in ourmodel.most_similar(wrap_query, topn=10):\n",
    "    if re.match('<c>[\\w-]+</c>', phrase):\n",
    "        phrase = phrase[3:-4]\n",
    "#     if phrase.lower() in our_phrase_set:\n",
    "    print(phrase, score)\n",
    "    cnt += 1\n",
    "    if cnt > 50:\n",
    "        break"
   ]
  },
  {
   "cell_type": "code",
   "execution_count": 374,
   "metadata": {},
   "outputs": [],
   "source": [
    "cnt = 0\n",
    "for phrase, score in model_end_with.most_similar(wrap_query, topn=10):\n",
    "    if re.match('<c>[\\w-]+</c>', phrase):\n",
    "        phrase = phrase[3:-4]\n",
    "#     if phrase.lower() in our_phrase_set:\n",
    "    print(phrase, score)\n",
    "    cnt += 1\n",
    "    if cnt > 50:\n",
    "        break"
   ]
  },
  {
   "cell_type": "code",
   "execution_count": 249,
   "metadata": {
    "collapsed": true
   },
   "outputs": [],
   "source": [
    "re.match('<c>\\w+</c>', '<c>domain-specific_resources</c>')"
   ]
  },
  {
   "cell_type": "code",
   "execution_count": null,
   "metadata": {
    "collapsed": true
   },
   "outputs": [],
   "source": []
  },
  {
   "cell_type": "code",
   "execution_count": null,
   "metadata": {
    "collapsed": true
   },
   "outputs": [],
   "source": []
  }
 ],
 "metadata": {
  "kernelspec": {
   "display_name": "py2",
   "language": "python",
   "name": "py2"
  },
  "language_info": {
   "codemirror_mode": {
    "name": "ipython",
    "version": 2
   },
   "file_extension": ".py",
   "mimetype": "text/x-python",
   "name": "python",
   "nbconvert_exporter": "python",
   "pygments_lexer": "ipython2",
   "version": "2.7.14"
  }
 },
 "nbformat": 4,
 "nbformat_minor": 2
}
