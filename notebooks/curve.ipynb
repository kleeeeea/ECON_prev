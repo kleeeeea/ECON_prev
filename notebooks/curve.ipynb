{
 "cells": [
  {
   "cell_type": "code",
   "execution_count": 1,
   "metadata": {
    "scrolled": true
   },
   "outputs": [
    {
     "data": {
      "text/plain": [
       "<matplotlib.legend.Legend at 0x7f1a1bceb610>"
      ]
     },
     "execution_count": 1,
     "metadata": {},
     "output_type": "execute_result"
    },
    {
     "data": {
      "image/png": "[encoded data removed]",
      "text/plain": [
       "<Figure size 432x288 with 1 Axes>"
      ]
     },
     "metadata": {},
     "output_type": "display_data"
    }
   ],
   "source": [
    "import matplotlib as mpl\n",
    "mpl.rcParams[\"font.sans-serif\"] = [\"Arial\", \"Liberation Sans\", \"Bitstream Vera Sans\"]\n",
    "mpl.rcParams[\"font.family\"] = \"sans-serif\"\n",
    "\n",
    "import matplotlib.pyplot as plt\n",
    "%matplotlib inline\n",
    "\n",
    "from sklearn.metrics import precision_recall_curve, roc_curve\n",
    "curve = roc_curve\n",
    "dataset = 'machine_learning'\n",
    "# database\n",
    "# 'pubmed'\n",
    "APPROACHES = ['auto', 'textrank', 'kea', 'rake', 'spacy_np', 'StructMineDataPipeline', 'econ']\n",
    "concept_list = []\n",
    "y_true = []\n",
    "concept2label = {}\n",
    "with open('data/evaluation/%s/ground_truth.txt' % dataset) as f_in_labels:\n",
    "    for l in f_in_labels:\n",
    "        try:\n",
    "            if '\\t' not in l:\n",
    "                continue\n",
    "            concept, label = l.split('\\t')\n",
    "            concept = concept.strip()\n",
    "            concept_list.append(concept)\n",
    "            label = int(label.strip())\n",
    "            concept2label[concept] = label\n",
    "            assert label\n",
    "            y_true.append(label)\n",
    "        except Exception as e:\n",
    "            y_true.append(0)\n",
    "\n",
    "approach2concept2score = {approach: {} for approach in APPROACHES}\n",
    "\n",
    "\n",
    "from collections import defaultdict\n",
    "approach2concept2rank = {approach: defaultdict(lambda: 5000) for approach in APPROACHES}\n",
    "with open('data/evaluation/%s/ground_truth_explanation_rank.txt' % dataset) as f_in_explanation:\n",
    "    for line in f_in_explanation:\n",
    "        try:\n",
    "            concept, explanation = line.strip().split('\\t')\n",
    "            explanation = explanation.split(' ')\n",
    "            for l in explanation:\n",
    "                approach, score = l.split(':')\n",
    "                score = float(score)\n",
    "                approach2concept2rank[approach][concept] = score\n",
    "        except Exception as e:\n",
    "            pass\n",
    "        \n",
    "approach2precision_recall_thresholds = {}\n",
    "for approach in APPROACHES:\n",
    "    y_scores = [approach2concept2score[approach].setdefault(concept, 0) for concept in concept_list]\n",
    "    precision, recall, thresholds = precision_recall_curve(y_true, y_scores)\n",
    "    index = recall < 1\n",
    "    precision, recall = precision[index], recall[index]\n",
    "\n",
    "    # for approach in APPROACHES:\n",
    "    #     precision, recall, _ = precision_recall_curve(y_test, y_score)\n",
    "    approach2precision_recall_thresholds[approach] = (precision, recall, thresholds)\n",
    "    plt.step(recall, precision, alpha=1)\n",
    "\n",
    "#     cut down the curve\n",
    "plt.ylim(0,1.01)\n",
    "plt.legend(['AutoPhrase', 'Textrank', 'WINGUS', 'RAKE', 'Tagger', 'StructMine', 'ECON'])"
   ]
  },
  {
   "cell_type": "code",
   "execution_count": null,
   "metadata": {},
   "outputs": [],
   "source": []
  }
 ],
 "metadata": {
  "kernelspec": {
   "display_name": "Python 2",
   "language": "python",
   "name": "python2"
  },
  "language_info": {
   "codemirror_mode": {
    "name": "ipython",
    "version": 2
   },
   "file_extension": ".py",
   "mimetype": "text/x-python",
   "name": "python",
   "nbconvert_exporter": "python",
   "pygments_lexer": "ipython2",
   "version": "2.7.15"
  }
 },
 "nbformat": 4,
 "nbformat_minor": 2
}
