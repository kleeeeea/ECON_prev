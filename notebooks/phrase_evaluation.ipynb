{
 "cells": [
  {
   "cell_type": "code",
   "execution_count": 15,
   "metadata": {},
   "outputs": [],
   "source": [
    "import sys\n",
    "import random\n",
    "from sklearn.metrics import precision_recall_curve\n",
    "from sklearn.metrics import roc_curve\n",
    "import cPickle\n",
    "# import _pickle as cPickle\n",
    "\n",
    "from gensim.models import word2vec\n",
    "from gensim import corpora, models, similarities\n",
    "import logging\n",
    "import pdb\n",
    "from tqdm import tqdm\n",
    "import re\n",
    "from collections import Counter\n",
    "from matplotlib import pyplot as plt\n",
    "\n",
    "import numpy as np\n",
    "from sklearn.metrics import precision_recall_curve\n",
    "import matplotlib.pyplot as plt"
   ]
  },
  {
   "cell_type": "code",
   "execution_count": 2,
   "metadata": {
    "collapsed": true
   },
   "outputs": [],
   "source": [
    "def display_concept(w):\n",
    "    return re.sub(r'<?/c>', '', w)\n",
    "def get_line_count(inFile):\n",
    "    count = -1\n",
    "    for count, line in enumerate(open(inFile, 'r')):\n",
    "        pass\n",
    "    count += 1\n",
    "    return count"
   ]
  },
  {
   "cell_type": "code",
   "execution_count": 3,
   "metadata": {
    "collapsed": true
   },
   "outputs": [],
   "source": [
    "dataset = 'machine_learning'\n",
    "approach2topconcept2score = {}\n",
    "topPercent = 0.2 # sample from topPercent phrases from each source "
   ]
  },
  {
   "cell_type": "code",
   "execution_count": 6,
   "metadata": {},
   "outputs": [
    {
     "name": "stderr",
     "output_type": "stream",
     "text": [
      " 29%|██▊       | 2/7 [00:02<00:05,  1.15s/it]\n"
     ]
    },
    {
     "ename": "KeyboardInterrupt",
     "evalue": "",
     "output_type": "error",
     "traceback": [
      "\u001b[0;31m---------------------------------------------------------------------------\u001b[0m",
      "\u001b[0;31mKeyboardInterrupt\u001b[0m                         Traceback (most recent call last)",
      "\u001b[0;32m<ipython-input-6-253bedf7a085>\u001b[0m in \u001b[0;36m<module>\u001b[0;34m()\u001b[0m\n\u001b[1;32m     15\u001b[0m     \u001b[0mtopn\u001b[0m \u001b[0;34m=\u001b[0m \u001b[0mint\u001b[0m\u001b[0;34m(\u001b[0m\u001b[0mtopPercent\u001b[0m\u001b[0;34m*\u001b[0m\u001b[0mlineCount\u001b[0m\u001b[0;34m)\u001b[0m\u001b[0;34m\u001b[0m\u001b[0m\n\u001b[1;32m     16\u001b[0m     \u001b[0;32mfor\u001b[0m \u001b[0mi\u001b[0m\u001b[0;34m,\u001b[0m \u001b[0ml\u001b[0m \u001b[0;32min\u001b[0m \u001b[0menumerate\u001b[0m\u001b[0;34m(\u001b[0m\u001b[0mopen\u001b[0m\u001b[0;34m(\u001b[0m\u001b[0mconcept2score_file\u001b[0m\u001b[0;34m)\u001b[0m\u001b[0;34m)\u001b[0m\u001b[0;34m:\u001b[0m\u001b[0;34m\u001b[0m\u001b[0m\n\u001b[0;32m---> 17\u001b[0;31m         \u001b[0mconcept\u001b[0m\u001b[0;34m,\u001b[0m \u001b[0mscore\u001b[0m \u001b[0;34m=\u001b[0m \u001b[0ml\u001b[0m\u001b[0;34m.\u001b[0m\u001b[0mstrip\u001b[0m\u001b[0;34m(\u001b[0m\u001b[0;34m)\u001b[0m\u001b[0;34m.\u001b[0m\u001b[0msplit\u001b[0m\u001b[0;34m(\u001b[0m\u001b[0;34m'\\t'\u001b[0m\u001b[0;34m)\u001b[0m\u001b[0;34m\u001b[0m\u001b[0m\n\u001b[0m\u001b[1;32m     18\u001b[0m         \u001b[0mconcept\u001b[0m \u001b[0;34m=\u001b[0m \u001b[0mconcept\u001b[0m\u001b[0;34m.\u001b[0m\u001b[0mreplace\u001b[0m\u001b[0;34m(\u001b[0m\u001b[0;34m'_'\u001b[0m\u001b[0;34m,\u001b[0m \u001b[0;34m' '\u001b[0m\u001b[0;34m)\u001b[0m\u001b[0;34m\u001b[0m\u001b[0m\n\u001b[1;32m     19\u001b[0m         \u001b[0mscore\u001b[0m \u001b[0;34m=\u001b[0m \u001b[0mfloat\u001b[0m\u001b[0;34m(\u001b[0m\u001b[0mscore\u001b[0m\u001b[0;34m)\u001b[0m\u001b[0;34m\u001b[0m\u001b[0m\n",
      "\u001b[0;31mKeyboardInterrupt\u001b[0m: "
     ]
    }
   ],
   "source": [
    "approach2concept2score = {}\n",
    "\n",
    "APPROACHES = ['auto', 'textrank', 'kea', 'rake', 'spacy_np', 'StructMineDataPipeline', 'ours']\n",
    "\n",
    "for approach in tqdm(APPROACHES):\n",
    "    if approach == 'ours':\n",
    "        concept2score_file = \"/scratch/home/klee/workspace/conceptMining/data/%s/concept_score.txt\" % (dataset)\n",
    "    else:\n",
    "        # results for spacy_np, nltk are tfidf ranked \n",
    "        concept2score_file = \"/scratch/home/hwzha/workspace/%s/result/%s/phrase_list_relative.txt\" % (approach, dataset)\n",
    "\n",
    "    concept2score = {}\n",
    "    topconcept2score = {}\n",
    "    lineCount = get_line_count(concept2score_file)\n",
    "    topn = int(topPercent*lineCount)\n",
    "    for i, l in enumerate(open(concept2score_file)):\n",
    "        concept, score = l.strip().split('\\t')\n",
    "        concept = concept.replace('_', ' ')\n",
    "        score = float(score)\n",
    "        concept2score[concept] = score\n",
    "        if i < topn:\n",
    "            topconcept2score[concept] = score\n",
    "        # concept2score.append((concept, score))\n",
    "\n",
    "    approach2concept2score[approach] = concept2score\n",
    "    approach2topconcept2score[approach] = topconcept2score\n",
    "\n",
    "common_concepts = set.intersection(*[set(concept2score.keys()) for concept2score in approach2concept2score.values()])"
   ]
  },
  {
   "cell_type": "code",
   "execution_count": 11,
   "metadata": {
    "collapsed": true
   },
   "outputs": [],
   "source": [
    "# read manual labeled ground truth file\n",
    "concept_list = []\n",
    "y_true = []\n",
    "with open('/scratch/home/hwzha/workspace/evaluation/current/evaluation/%s/ground_truth.txt' % dataset) as fin:\n",
    "    for line in fin:\n",
    "        if '\\t' in line.strip():\n",
    "            concept, label = line.strip().split('\\t')\n",
    "            concept_list.append(concept)\n",
    "            label = int(label)\n",
    "            y_true.append(label)"
   ]
  },
  {
   "cell_type": "code",
   "execution_count": 20,
   "metadata": {},
   "outputs": [
    {
     "ename": "KeyError",
     "evalue": "'kea'",
     "output_type": "error",
     "traceback": [
      "\u001b[0;31m---------------------------------------------------------------------------\u001b[0m",
      "\u001b[0;31mKeyError\u001b[0m                                  Traceback (most recent call last)",
      "\u001b[0;32m<ipython-input-20-f2df4cee92b5>\u001b[0m in \u001b[0;36m<module>\u001b[0;34m()\u001b[0m\n\u001b[1;32m      1\u001b[0m \u001b[0mapproach2measures\u001b[0m \u001b[0;34m=\u001b[0m \u001b[0;34m{\u001b[0m\u001b[0;34m}\u001b[0m\u001b[0;34m\u001b[0m\u001b[0m\n\u001b[1;32m      2\u001b[0m \u001b[0;32mfor\u001b[0m \u001b[0mapproach\u001b[0m \u001b[0;32min\u001b[0m \u001b[0mAPPROACHES\u001b[0m\u001b[0;34m:\u001b[0m\u001b[0;34m\u001b[0m\u001b[0m\n\u001b[0;32m----> 3\u001b[0;31m     \u001b[0my_scores\u001b[0m \u001b[0;34m=\u001b[0m \u001b[0;34m[\u001b[0m\u001b[0mapproach2concept2score\u001b[0m\u001b[0;34m[\u001b[0m\u001b[0mapproach\u001b[0m\u001b[0;34m]\u001b[0m\u001b[0;34m.\u001b[0m\u001b[0msetdefault\u001b[0m\u001b[0;34m(\u001b[0m\u001b[0mconcept\u001b[0m\u001b[0;34m,\u001b[0m \u001b[0;36m0\u001b[0m\u001b[0;34m)\u001b[0m \u001b[0;32mfor\u001b[0m \u001b[0mconcept\u001b[0m \u001b[0;32min\u001b[0m \u001b[0mconcept_list\u001b[0m\u001b[0;34m]\u001b[0m\u001b[0;34m\u001b[0m\u001b[0m\n\u001b[0m\u001b[1;32m      4\u001b[0m     \u001b[0mprecision\u001b[0m\u001b[0;34m,\u001b[0m \u001b[0mrecall\u001b[0m\u001b[0;34m,\u001b[0m \u001b[0mthresholds\u001b[0m \u001b[0;34m=\u001b[0m \u001b[0mprecision_recall_curve\u001b[0m\u001b[0;34m(\u001b[0m\u001b[0my_true\u001b[0m\u001b[0;34m,\u001b[0m \u001b[0my_scores\u001b[0m\u001b[0;34m)\u001b[0m\u001b[0;34m\u001b[0m\u001b[0m\n\u001b[1;32m      5\u001b[0m     \u001b[0mapproach2measures\u001b[0m\u001b[0;34m[\u001b[0m\u001b[0mapproach\u001b[0m\u001b[0;34m]\u001b[0m \u001b[0;34m=\u001b[0m \u001b[0;34m{\u001b[0m\u001b[0;34m'precision'\u001b[0m\u001b[0;34m:\u001b[0m\u001b[0mprecision\u001b[0m\u001b[0;34m,\u001b[0m \u001b[0;34m'recall'\u001b[0m\u001b[0;34m:\u001b[0m\u001b[0mrecall\u001b[0m\u001b[0;34m,\u001b[0m \u001b[0;34m'thresholds'\u001b[0m\u001b[0;34m:\u001b[0m\u001b[0mthresholds\u001b[0m\u001b[0;34m}\u001b[0m\u001b[0;34m\u001b[0m\u001b[0m\n",
      "\u001b[0;31mKeyError\u001b[0m: 'kea'"
     ]
    }
   ],
   "source": [
    "approach2measures = {}\n",
    "for approach in APPROACHES:\n",
    "    y_scores = [approach2concept2score[approach].setdefault(concept, 0) for concept in concept_list]  \n",
    "    precision, recall, thresholds = precision_recall_curve(y_true, y_scores)\n",
    "    approach2measures[approach] = {'precision':precision, 'recall':recall, 'thresholds':thresholds}"
   ]
  },
  {
   "cell_type": "code",
   "execution_count": 122,
   "metadata": {
    "scrolled": true
   },
   "outputs": [
    {
     "data": {
      "image/png": "[encoded data removed]",
      "text/plain": [
       "<matplotlib.figure.Figure at 0x7fd869db3690>"
      ]
     },
     "metadata": {},
     "output_type": "display_data"
    }
   ],
   "source": [
    "dataset2name = {'database':'Database', 'machine_learning':'Machine Learning', 'pubmed': 'Medicine'}\n",
    "approachNames = ['AutoPhrase', 'Textrank', 'WINGNUS', 'RAKE', 'SequenceTagger', 'Pattern', 'ECON']\n",
    "# plotting...\n",
    "fig, ax = plt.subplots()\n",
    "for approach, approachName in zip(APPROACHES, approachNames):\n",
    "\n",
    "\n",
    "    recall = approach2measures[approach]['recall']\n",
    "    precision = approach2measures[approach]['precision']\n",
    "\n",
    "    ax.plot(recall,precision, label=approachName) #'k--',color='blue',\n",
    "\n",
    "ax.legend(loc='lower right')\n",
    "ax.set_xlabel(\"Recall\")\n",
    "ax.set_ylabel(\"Precision\")\n",
    "plt.title('Precision-Recall Curve on %s Dataset' % dataset2name[dataset])\n",
    "plt.xlim((0, 1))\n",
    "plt.ylim((0.3, 1))\n",
    "plt.savefig('precision_recall_curve_%s_0.3.pdf' % dataset.replace(' ', '_'))\n",
    "\n",
    "\n",
    "fig.show()"
   ]
  },
  {
   "cell_type": "code",
   "execution_count": 123,
   "metadata": {
    "collapsed": true
   },
   "outputs": [],
   "source": [
    "# not_use_concepts = set(rare_counter.keys()).union(set(common_concepts))\n",
    "\n",
    "# approach2concept2score_difference = {}\n",
    "# for approach in tqdm(approach2concept2score):\n",
    "#     concept2score_difference = {concept: score for concept, score in approach2topconcept2score[approach].items() if concept not in not_use_concepts}\n",
    "#     approach2concept2score_difference[approach] = concept2score_difference\n",
    "\n",
    "# GENERATE_GROUND_TRUTH = True\n",
    "# if not GENERATE_GROUND_TRUTH:\n",
    "#     approach2precision_recall = {}\n",
    "#     # read back the ...\n",
    "#     # with open('data/%s/ground_truth_labeled.txt' % dataset) as f:\n",
    "\n",
    "#     # for approach in APPROACHES:\n",
    "#     #     precision, recall, _ = precision_recall_curve(y_test, y_score)\n",
    "#     #     approach2precision_recall[approach] = (precision, recall)\n",
    "#     # cPickle.dump(approach2precision_recall, 'data/%s/approach2precision_recall.bin' % dataset)\n",
    "#     # draw roc curve\n",
    "# else:\n",
    "#     K = 100\n",
    "#     concept_pool = set()\n",
    "#     for approach in approach2concept2score_difference:\n",
    "#         concept_pool.update(random.sample(approach2concept2score_difference[approach].keys(), K))\n",
    "\n",
    "#     # output concept_pool for labelling\n",
    "    \n",
    "#     concept2explaination = {}\n",
    "#     with open('/scratch/home/hwzha/workspace/evaluation/%s/ground_truth.txt' % dataset, 'w') as f_out, \\\n",
    "#     open('/scratch/home/hwzha/workspace/evaluation/%s/ground_truth_explanation.txt' % dataset, 'w') as f_out_explanation:\n",
    "#         for concept in concept_pool:\n",
    "#             explanation_list = []\n",
    "#             for approach, concept2score in approach2concept2score.items():\n",
    "#                 if concept in concept2score:\n",
    "#                     explanation_list.append('%s:%s' % (approach, round(concept2score[concept], 10)))\n",
    "#             explanation = ' '.join(explanation_list)\n",
    "#             concept2explaination[display_concept(concept.strip())] = explanation\n",
    "# #             explanation = ' '.join([('%s:%s' % (approach, concept2score[concept])) for approach, concept2score in approach2concept2score.items() if concept in concept2score])\n",
    "#             f_out.write(display_concept(concept.strip()) + '\\n')\n",
    "#             f_out_explanation.write(display_concept(concept.strip())+'\\t'+explanation + '\\n')\n",
    "\n",
    "# # test ground truth labels\n",
    "# with open('/scratch/home/hwzha/workspace/evaluation/%s/ground_truth_labels.txt' % dataset, 'w') as f_out_labels:\n",
    "#     lineCount = get_line_count('/scratch/home/hwzha/workspace/evaluation/%s/ground_truth.txt' % dataset)\n",
    "#     for i in range(lineCount):\n",
    "#         label = np.random.randint(0, 2)\n",
    "#         f_out_labels.write(str(label))\n",
    "#         f_out_labels.write('\\n')\n",
    "\n",
    "# y_true = []\n",
    "# with open('/scratch/home/hwzha/workspace/evaluation/%s/ground_truth_labels.txt' % dataset) as f_in_labels:\n",
    "#     for label in f_in_labels:\n",
    "#         label = int(label.strip())\n",
    "#         y_true.append(label)\n",
    "\n",
    "# concept_list = []\n",
    "# with open('/scratch/home/hwzha/workspace/evaluation/%s/ground_truth.txt' % dataset) as f_in:\n",
    "#     for concept in f_in:\n",
    "#         concept = concept.strip()\n",
    "#         concept_list.append(concept)\n",
    "\n",
    "# approach2concept2score = {approach:{} for approach in APPROACHES}\n",
    "\n",
    "# with open('/scratch/home/hwzha/workspace/evaluation/%s/ground_truth_explanation.txt' % dataset) as f_in_explanation:\n",
    "#     for line in f_in_explanation:\n",
    "#         concept, explanation = line.strip().split('\\t')\n",
    "#         explanation = explanation.split(' ')\n",
    "#         for l in explanation:\n",
    "#             approach, score = l.split(':')\n",
    "#             score = float(score)\n",
    "#             approach2concept2score[approach][concept] = score"
   ]
  },
  {
   "cell_type": "code",
   "execution_count": 124,
   "metadata": {
    "collapsed": true
   },
   "outputs": [],
   "source": [
    "# # avoid sample from low frequency phrases in ours \n",
    "# freq_counter = Counter()\n",
    "# with open('/scratch/home/hwzha/workspace/merge_span/result/%s/freq_in_superspan.txt'%dataset) as fin:\n",
    "#     for line in fin:\n",
    "#         phrase, freq = line.strip().split('\\t')\n",
    "#         freq = int(freq)\n",
    "#         freq_counter[phrase] = freq\n",
    "\n",
    "# rare_counter = Counter(el for el in freq_counter.elements() if freq_counter[el] < 20)"
   ]
  },
  {
   "cell_type": "code",
   "execution_count": null,
   "metadata": {
    "collapsed": true
   },
   "outputs": [],
   "source": []
  }
 ],
 "metadata": {
  "kernelspec": {
   "display_name": "py2",
   "language": "python",
   "name": "py2"
  },
  "language_info": {
   "codemirror_mode": {
    "name": "ipython",
    "version": 2
   },
   "file_extension": ".py",
   "mimetype": "text/x-python",
   "name": "python",
   "nbconvert_exporter": "python",
   "pygments_lexer": "ipython2",
   "version": "2.7.14"
  }
 },
 "nbformat": 4,
 "nbformat_minor": 2
}
